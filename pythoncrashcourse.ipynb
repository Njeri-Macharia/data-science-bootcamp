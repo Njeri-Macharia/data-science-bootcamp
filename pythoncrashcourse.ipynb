{
  "nbformat": 4,
  "nbformat_minor": 0,
  "metadata": {
    "colab": {
      "provenance": [],
      "authorship_tag": "ABX9TyN0uEPrGDsjVMSmqL8Dx493",
      "include_colab_link": true
    },
    "kernelspec": {
      "name": "python3",
      "display_name": "Python 3"
    },
    "language_info": {
      "name": "python"
    }
  },
  "cells": [
    {
      "cell_type": "markdown",
      "metadata": {
        "id": "view-in-github",
        "colab_type": "text"
      },
      "source": [
        "<a href=\"https://colab.research.google.com/github/Njeri-Macharia/data-science-bootcamp/blob/main/pythoncrashcourse.ipynb\" target=\"_parent\"><img src=\"https://colab.research.google.com/assets/colab-badge.svg\" alt=\"Open In Colab\"/></a>"
      ]
    },
    {
      "cell_type": "markdown",
      "source": [
        "# **Basics of Python:**\n",
        "\n",
        "\n",
        "*   Data types-numbers, strings,\n",
        "*   Operators\n",
        "\n",
        "\n",
        "\n",
        "\n",
        "\n",
        "\n"
      ],
      "metadata": {
        "id": "tOswoOMKSUej"
      }
    },
    {
      "cell_type": "markdown",
      "source": [
        "Numbers and its operations"
      ],
      "metadata": {
        "id": "rXTFl7WRTETq"
      }
    },
    {
      "cell_type": "code",
      "execution_count": 1,
      "metadata": {
        "colab": {
          "base_uri": "https://localhost:8080/"
        },
        "id": "mtaMTxxSR1Y1",
        "outputId": "131b6368-0019-455c-f3e8-6048ee52d41f"
      },
      "outputs": [
        {
          "output_type": "execute_result",
          "data": {
            "text/plain": [
              "2.0"
            ]
          },
          "metadata": {},
          "execution_count": 1
        }
      ],
      "source": [
        "# whole number\n",
        "1\n",
        "# float number\n",
        "2.0"
      ]
    },
    {
      "cell_type": "code",
      "source": [
        "# addition operator(+)\n",
        "2+4"
      ],
      "metadata": {
        "colab": {
          "base_uri": "https://localhost:8080/"
        },
        "id": "GDrQbmt0TWcq",
        "outputId": "fc4f2269-84e3-4361-90fa-a1de200de9fa"
      },
      "execution_count": 2,
      "outputs": [
        {
          "output_type": "execute_result",
          "data": {
            "text/plain": [
              "6"
            ]
          },
          "metadata": {},
          "execution_count": 2
        }
      ]
    },
    {
      "cell_type": "code",
      "source": [
        "# subtraction operator(-)\n",
        "4-2.0"
      ],
      "metadata": {
        "colab": {
          "base_uri": "https://localhost:8080/"
        },
        "id": "h17kLSPLTd9W",
        "outputId": "4da70660-8a69-459f-8739-80bebfa797c8"
      },
      "execution_count": 3,
      "outputs": [
        {
          "output_type": "execute_result",
          "data": {
            "text/plain": [
              "2.0"
            ]
          },
          "metadata": {},
          "execution_count": 3
        }
      ]
    },
    {
      "cell_type": "code",
      "source": [
        "# division operator(/)\n",
        "6/3"
      ],
      "metadata": {
        "colab": {
          "base_uri": "https://localhost:8080/"
        },
        "id": "y4e-XOSETlS7",
        "outputId": "a0ef263f-4b2d-46c5-af4b-46857c90a430"
      },
      "execution_count": 4,
      "outputs": [
        {
          "output_type": "execute_result",
          "data": {
            "text/plain": [
              "2.0"
            ]
          },
          "metadata": {},
          "execution_count": 4
        }
      ]
    },
    {
      "cell_type": "code",
      "source": [
        "# multiplication(*) and power operation(**)\n",
        "print(4*2)\n",
        "print(4**2)\n"
      ],
      "metadata": {
        "colab": {
          "base_uri": "https://localhost:8080/"
        },
        "id": "GzFXhJqYTq-t",
        "outputId": "2d4311cb-acdb-4ff8-ac49-949d102365ce"
      },
      "execution_count": 5,
      "outputs": [
        {
          "output_type": "stream",
          "name": "stdout",
          "text": [
            "8\n",
            "16\n"
          ]
        }
      ]
    },
    {
      "cell_type": "code",
      "source": [
        "# modulus operator(%)\n",
        "print(5%2)\n",
        "print(6%2)"
      ],
      "metadata": {
        "colab": {
          "base_uri": "https://localhost:8080/"
        },
        "id": "Qcr3R3Z_T5SC",
        "outputId": "a7564e04-b844-4fc8-da00-3d704494bcfd"
      },
      "execution_count": 6,
      "outputs": [
        {
          "output_type": "stream",
          "name": "stdout",
          "text": [
            "1\n",
            "0\n"
          ]
        }
      ]
    },
    {
      "cell_type": "code",
      "source": [
        "# respects order of operations\n",
        "print(2+10*10+3)\n",
        "print((2+10)*(10+3))"
      ],
      "metadata": {
        "colab": {
          "base_uri": "https://localhost:8080/"
        },
        "id": "1ISaNM_6T_m9",
        "outputId": "bce118a9-b8b0-43eb-be29-d4efa51afcf0"
      },
      "execution_count": 7,
      "outputs": [
        {
          "output_type": "stream",
          "name": "stdout",
          "text": [
            "105\n",
            "156\n"
          ]
        }
      ]
    },
    {
      "cell_type": "markdown",
      "source": [
        "variables"
      ],
      "metadata": {
        "id": "58y2skPXUN4t"
      }
    },
    {
      "cell_type": "code",
      "source": [
        "# initializing variables\n",
        "var=2\n",
        "var"
      ],
      "metadata": {
        "colab": {
          "base_uri": "https://localhost:8080/"
        },
        "id": "zAYVOjhBUJtO",
        "outputId": "0d1bc100-6f3d-483b-c2e4-c1ba135287c8"
      },
      "execution_count": 8,
      "outputs": [
        {
          "output_type": "execute_result",
          "data": {
            "text/plain": [
              "2"
            ]
          },
          "metadata": {},
          "execution_count": 8
        }
      ]
    },
    {
      "cell_type": "code",
      "source": [],
      "metadata": {
        "id": "F42pu22HW3_2"
      },
      "execution_count": 12,
      "outputs": []
    },
    {
      "cell_type": "code",
      "source": [],
      "metadata": {
        "id": "KcxKjKCdUYOF"
      },
      "execution_count": null,
      "outputs": []
    }
  ]
}